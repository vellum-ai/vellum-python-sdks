{
 "cells": [
  {
   "cell_type": "markdown",
   "metadata": {},
   "source": [
    "# Vellum Multimodal Inputs Example\n",
    "\n",
    "This notebook demonstrates how to use the Vellum Python Client SDK to send multimodal inputs (PDF and image) to a Prompt Deployment. For more information on how to create and test Prompts in the Vellum Prompt Sandbox UI, see [Vellum Prompts - Multimodality](https://docs.vellum.ai/product/prompts/multimodality)."
   ]
  },
  {
   "cell_type": "code",
   "execution_count": null,
   "metadata": {
    "vscode": {
     "languageId": "shellscript"
    }
   },
   "outputs": [],
   "source": [
    "!pip install -r requirements.txt"
   ]
  },
  {
   "cell_type": "code",
   "execution_count": 2,
   "metadata": {},
   "outputs": [],
   "source": [
    "import os\n",
    "from dotenv import load_dotenv\n",
    "from vellum import (\n",
    "    ArrayChatMessageContent,\n",
    "    ChatHistoryInput,\n",
    "    ChatMessage,\n",
    "    DocumentChatMessageContent,\n",
    "    ImageChatMessageContent,\n",
    "    StringChatMessageContent,\n",
    "    Vellum,\n",
    "    VellumDocument,\n",
    "    VellumImage,\n",
    ")"
   ]
  },
  {
   "cell_type": "markdown",
   "metadata": {},
   "source": [
    "## Initialize Vellum Client\n",
    "Make sure you have set the `VELLUM_API_KEY` environment variable in a `.env` file in this directory."
   ]
  },
  {
   "cell_type": "code",
   "execution_count": 7,
   "metadata": {},
   "outputs": [],
   "source": [
    "load_dotenv()\n",
    "client = Vellum(api_key=os.environ[\"VELLUM_API_KEY\"])"
   ]
  },
  {
   "cell_type": "markdown",
   "metadata": {},
   "source": [
    "## PDF Example\n",
    "Let's send a PDF to the prompt and get a response."
   ]
  },
  {
   "cell_type": "code",
   "execution_count": 9,
   "metadata": {},
   "outputs": [
    {
     "data": {
      "text/plain": [
       "'The PDF contains only the text \"Dummy PDF file\" displayed at the top of an otherwise blank page. It appears to be a simple placeholder or test document without any additional content, images, or formatting.'"
      ]
     },
     "execution_count": 9,
     "metadata": {},
     "output_type": "execute_result"
    }
   ],
   "source": [
    "pdf_link = \"https://www.w3.org/WAI/ER/tests/xhtml/testfiles/resources/pdf/dummy.pdf\"\n",
    "response = client.execute_prompt(\n",
    "    prompt_deployment_name=\"pdfs-example-prompt\",\n",
    "    inputs=[\n",
    "        ChatHistoryInput(\n",
    "            name=\"chat_history\",\n",
    "            value=[\n",
    "                ChatMessage(\n",
    "                    role=\"USER\",\n",
    "                    content=ArrayChatMessageContent(\n",
    "                        value=[\n",
    "                            StringChatMessageContent(value=\"What's in the PDF?\"),\n",
    "                            DocumentChatMessageContent(value=VellumDocument(src=pdf_link)),\n",
    "                        ]\n",
    "                    ),\n",
    "                )\n",
    "            ],\n",
    "        ),\n",
    "    ],\n",
    ")\n",
    "\n",
    "response.outputs[0].value"
   ]
  },
  {
   "cell_type": "markdown",
   "metadata": {},
   "source": [
    "## Image Example\n",
    "Let's send an image to the prompt and get a response."
   ]
  },
  {
   "cell_type": "code",
   "execution_count": 10,
   "metadata": {},
   "outputs": [
    {
     "data": {
      "text/plain": [
       "'The image shows a wispy, feathery cloud formation against a clear blue sky. The cloud appears to be elongated and somewhat vertical, with delicate white and light gray wisps that create an ethereal, almost flame-like shape as it stretches upward. This type of cloud formation might be a cirrus cloud, which typically forms at high altitudes and is made of ice crystals, giving it that distinctive wispy, feathery appearance.'"
      ]
     },
     "execution_count": 10,
     "metadata": {},
     "output_type": "execute_result"
    }
   ],
   "source": [
    "image_link = \"https://fastly.picsum.photos/id/53/200/300.jpg?hmac=KbEX4oNyVO15M-9S4xMsefrElB1uiO3BqnvVqPnhPgE\"\n",
    "response = client.execute_prompt(\n",
    "    prompt_deployment_name=\"pdfs-example-prompt\",\n",
    "    inputs=[\n",
    "        ChatHistoryInput(\n",
    "            name=\"chat_history\",\n",
    "            value=[\n",
    "                ChatMessage(\n",
    "                    role=\"USER\",\n",
    "                    content=ArrayChatMessageContent(\n",
    "                        value=[\n",
    "                            StringChatMessageContent(value=\"What's in the image?\"),\n",
    "                            ImageChatMessageContent(value=VellumImage(src=image_link)),\n",
    "                        ]\n",
    "                    ),\n",
    "                )\n",
    "            ],\n",
    "        ),\n",
    "    ],\n",
    ")\n",
    "\n",
    "response.outputs[0].value"
   ]
  }
 ],
 "metadata": {
  "kernelspec": {
   "display_name": "Python 3",
   "language": "python",
   "name": "python3"
  },
  "language_info": {
   "codemirror_mode": {
    "name": "ipython",
    "version": 3
   },
   "file_extension": ".py",
   "mimetype": "text/x-python",
   "name": "python",
   "nbconvert_exporter": "python",
   "pygments_lexer": "ipython3",
   "version": "3.10.16"
  }
 },
 "nbformat": 4,
 "nbformat_minor": 2
}
