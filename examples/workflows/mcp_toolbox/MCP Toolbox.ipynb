{
 "cells": [
  {
   "cell_type": "markdown",
   "id": "ee311904",
   "metadata": {},
   "source": [
    "# MCP Toolbox\n"
   ]
  },
  {
   "cell_type": "markdown",
   "id": "6bfbf17f",
   "metadata": {},
   "source": [
    "## Prerequisites\n",
    "\n",
    "1. Follow the setup instructions https://github.com/vellum-ai/vellum-python-sdks/tree/c7e2ba1fd0bed4c78cfeafc22c98551b20f9044d/examples/workflows/mcp_toolbox\n"
   ]
  },
  {
   "cell_type": "code",
   "execution_count": 1,
   "id": "3486c918",
   "metadata": {},
   "outputs": [],
   "source": [
    "from vellum.workflows.inputs import BaseInputs\n",
    "\n",
    "\n",
    "class Inputs(BaseInputs):\n",
    "    query: str"
   ]
  },
  {
   "cell_type": "markdown",
   "id": "cdab0344",
   "metadata": {},
   "source": [
    "Define an Agent Node that has a mcp tool pointing to mcp server setup by `toolbox`\n"
   ]
  },
  {
   "cell_type": "code",
   "execution_count": null,
   "id": "af23be67",
   "metadata": {},
   "outputs": [],
   "source": [
    "from vellum.client.types.chat_message_prompt_block import ChatMessagePromptBlock\n",
    "from vellum.client.types.plain_text_prompt_block import PlainTextPromptBlock\n",
    "from vellum.client.types.rich_text_prompt_block import RichTextPromptBlock\n",
    "from vellum.client.types.variable_prompt_block import VariablePromptBlock\n",
    "from vellum.workflows.nodes.displayable.tool_calling_node import ToolCallingNode\n",
    "from vellum.workflows.types.definition import MCPServer\n",
    "\n",
    "class Agent(ToolCallingNode):\n",
    "    ml_model = \"gpt-4o-mini\"\n",
    "    blocks = [\n",
    "        ChatMessagePromptBlock(\n",
    "            chat_role=\"SYSTEM\",\n",
    "            blocks=[\n",
    "                RichTextPromptBlock(\n",
    "                    blocks=[\n",
    "                        PlainTextPromptBlock(\n",
    "                            text=\"\"\"\n",
    "You're a helpful hotel assistant. You handle hotel searching, booking and\n",
    "cancellations. When the user searches for a hotel, mention it's name, id,\n",
    "location and price tier. Always mention hotel ids while performing any\n",
    "searches. This is very important for any operations. For any bookings or\n",
    "cancellations, please provide the appropriate confirmation. Be sure to\n",
    "update checkin or checkout dates if mentioned by the user.\n",
    "Don't ask for confirmations from the user.\n",
    "\"\"\"\n",
    "                        ),\n",
    "                    ],\n",
    "                ),\n",
    "            ],\n",
    "        ),\n",
    "        ChatMessagePromptBlock(\n",
    "            chat_role=\"USER\",\n",
    "            blocks=[\n",
    "                VariablePromptBlock(\n",
    "                    input_variable=\"query\",\n",
    "                ),\n",
    "            ],\n",
    "        ),\n",
    "    ]\n",
    "    functions = [\n",
    "        MCPServer(\n",
    "            name=\"toolbox\",\n",
    "            url=\"http://127.0.0.1:5000/mcp\",\n",
    "        ),\n",
    "    ]\n",
    "    prompt_inputs = {\n",
    "        \"query\": Inputs.query,\n",
    "    }\n"
   ]
  },
  {
   "cell_type": "code",
   "execution_count": 3,
   "id": "6c9d438b",
   "metadata": {},
   "outputs": [],
   "source": [
    "from vellum.workflows import BaseWorkflow\n",
    "from vellum.workflows.state.base import BaseState\n",
    "\n",
    "\n",
    "class MCPToolboxWorkflow(BaseWorkflow[Inputs, BaseState]):\n",
    "    graph = Agent\n",
    "\n",
    "    class Outputs:\n",
    "        text = Agent.Outputs.text\n",
    "        chat_history = Agent.Outputs.chat_history"
   ]
  },
  {
   "cell_type": "markdown",
   "id": "16612b06",
   "metadata": {},
   "source": [
    "Interactive chat with mcp toolbox\n",
    "\n",
    "`Find hotels in Basel with Basel in its name.`\n"
   ]
  },
  {
   "cell_type": "code",
   "execution_count": 4,
   "id": "8d7d0447",
   "metadata": {},
   "outputs": [
    {
     "name": "stdout",
     "output_type": "stream",
     "text": [
      "Running workflow with inputs:  Find hotels in Basel with Basel in its name.\n",
      "Answer: Following are the hotels in Basel with Basel in their name:\n",
      "- Hilton Basel, with an id of 1, is a Luxury hotel in Basel.\n",
      "- Hyatt Regency Basel, with an id of 3, is a Upper Upscale hotel in Basel.\n",
      "- Holiday Inn Basel, with an id of 8, is a Upper Midscale hotel in Basel.\n"
     ]
    }
   ],
   "source": [
    "workflow = MCPToolboxWorkflow()\n",
    "\n",
    "query = input(\"Hi! I'm an your hotel booking assistant. What can I do for you today? \")\n",
    "inputs = Inputs(query=query)\n",
    "\n",
    "print(\"Running workflow with inputs: \", query)\n",
    "\n",
    "terminal_event = workflow.run(inputs=inputs)\n",
    "if terminal_event.name == \"workflow.execution.fulfilled\":\n",
    "    print(\"Answer:\", terminal_event.outputs[\"text\"])\n",
    "elif terminal_event.name == \"workflow.execution.rejected\":\n",
    "    print(\"Workflow rejected\", terminal_event.error.code, terminal_event.error.message)\n"
   ]
  },
  {
   "cell_type": "code",
   "execution_count": null,
   "id": "1114bdff",
   "metadata": {},
   "outputs": [],
   "source": []
  }
 ],
 "metadata": {
  "kernelspec": {
   "display_name": ".venv",
   "language": "python",
   "name": "python3"
  },
  "language_info": {
   "codemirror_mode": {
    "name": "ipython",
    "version": 3
   },
   "file_extension": ".py",
   "mimetype": "text/x-python",
   "name": "python",
   "nbconvert_exporter": "python",
   "pygments_lexer": "ipython3",
   "version": "3.9.23"
  }
 },
 "nbformat": 4,
 "nbformat_minor": 5
}
